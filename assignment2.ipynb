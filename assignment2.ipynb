{
  "cells": [
    {
      "cell_type": "markdown",
      "id": "13ad028b-72b7-43ed-aa78-96fd4e518040",
      "metadata": {
        "id": "13ad028b-72b7-43ed-aa78-96fd4e518040"
      },
      "source": [
        "# Assignment: Data Wrangling and Exploratory Data Analysis\n",
        "## Do Q1 and Q2, and one other question.\n",
        "`! git clone https://www.github.com/DS3001/assignment2`"
      ]
    },
    {
      "cell_type": "markdown",
      "id": "5735a4d4-8be8-433a-a351-70eb8002e632",
      "metadata": {
        "id": "5735a4d4-8be8-433a-a351-70eb8002e632"
      },
      "source": [
        "**Q1.** Open the \"tidy_data.pdf\" document in the repo, which is a paper called Tidy Data by Hadley Wickham.\n",
        "\n",
        "  1. Read the abstract. What is this paper about?\n",
        "  2. Read the introduction. What is the \"tidy data standard\" intended to accomplish?\n",
        "  3. Read the intro to section 2. What does this sentence mean: \"Like families, tidy datasets are all alike but every messy dataset is messy in its own way.\" What does this sentence mean: \"For a given dataset, it’s usually easy to figure out what are observations and what are variables, but it is surprisingly difficult to precisely define variables and observations in general.\"\n",
        "  4. Read Section 2.2. How does Wickham define values, variables, and observations?\n",
        "  5. How is \"Tidy Data\" defined in section 2.3?\n",
        "  6. Read the intro to Section 3 and Section 3.1. What are the 5 most common problems with messy datasets? Why are the data in Table 4 messy? What is \"melting\" a dataset?\n",
        "  7. Why, specifically, is table 11 messy but table 12 tidy and \"molten\"?\n",
        "  8. Read Section 6. What is the \"chicken-and-egg\" problem with focusing on tidy data? What does Wickham hope happens in the future with further work on the subject of data wrangling?"
      ]
    },
    {
      "cell_type": "markdown",
      "source": [
        "1. The paper is about going over on how to important it is to tidy up data and few people talk about how to tidy up data. This paper will talk about how to tidy up paper with using a small set of tool to do lots of data cleaning. It uses a frame work where it has a specific structure. Each variable is a column, each observation is a row, and each type of observational unit is a table. This makes it easy to model and look at the data."
      ],
      "metadata": {
        "id": "lJ9t_K1chCER"
      },
      "id": "lJ9t_K1chCER"
    },
    {
      "cell_type": "markdown",
      "source": [
        "2.Tidy data standard main goal is to make data cleaning easier and use the same process each time you obtain new data. It stops you from spending a lot of time cleaning data each time and instead use that time to anyazle data."
      ],
      "metadata": {
        "id": "lAZDfY6bjYJJ"
      },
      "id": "lAZDfY6bjYJJ"
    },
    {
      "cell_type": "markdown",
      "source": [
        "3. The first sentence means that all tidy datasets have the same identical structure such as having columns with variables, rows with obervations etc. While messy datasets are\n",
        "different with unique problems such as missing variables or missing rows as well as different formats thats hard to use tools on. The second sentence means that it is easy to\n",
        "look at observations such as two columns height and legth being clear, but in more complicated cases, its harder to name the observations and variables as it might not be\n",
        "clear for other people in different environments."
      ],
      "metadata": {
        "id": "5UKJE1h_wtHz"
      },
      "id": "5UKJE1h_wtHz"
    },
    {
      "cell_type": "markdown",
      "source": [
        "4.A variable: contains all values that measure the same underlying attributes  across units. (like height, temperature, duration)\n",
        "Observation:contains all values measured on the same unit across attributes. (like a person, or a day, or a race)\n",
        "values: Either numbers (if quantitative) or strings (if qualitative) of a dataset"
      ],
      "metadata": {
        "id": "8ZYF5tervpKS"
      },
      "id": "8ZYF5tervpKS"
    },
    {
      "cell_type": "markdown",
      "source": [
        "5.Tidy data follows a structural with its dataset. A dataset is considered tidy depending on how rows, columns and tables are matched up with observations, variables and types. Tidy data have these characteristics listed.\n",
        "1. Each variable forms a column.\n",
        "2. Each observation forms a row.\n",
        "3. Each type of observational unit forms a table."
      ],
      "metadata": {
        "id": "g1Xnytyfwv4A"
      },
      "id": "g1Xnytyfwv4A"
    },
    {
      "cell_type": "markdown",
      "source": [
        "6. 5 common problems with messy data is that column headers are values instead of variable names. Multiple variables are stored in one column. Variables are stored in both rows and columns. Multiple types of observational units are stored in the same table. A single observational unit is stored in multiple tables.\n",
        " Table 4 is considered messy because it has income spread out across multiple columns instead of using just 1 column income for the data. Melting the data means you turn columns into rows and stack the data into one big column. In this case it would be turning all the income intervals columns and combine then to just one income column that is really long."
      ],
      "metadata": {
        "id": "4tINwyr0xwYF"
      },
      "id": "4tINwyr0xwYF"
    },
    {
      "cell_type": "markdown",
      "source": [
        "7. Table 11 is messy because there are some variables in both rows and columns. The dates are spread out with a lot of unnecessary taking up space with a lot of empty lines. The element column adds on to being messy due to containing variables as it should be its own column. Table 12 is Tidy and Molten because it takes all the all dates columns and combines them to just one column called Date saving up a ton of space. It is finally tidy when it takes the Element column and gives those variables into their own columns. This saves a lot of space.  "
      ],
      "metadata": {
        "id": "F_NFBt0A0Mwj"
      },
      "id": "F_NFBt0A0Mwj"
    },
    {
      "cell_type": "markdown",
      "source": [
        "8. The chicken-and-egg in tidy data problem refers to either to clean the data first before looking at the data or to look at the data first then clean as you move on.\n",
        "\n",
        "He hopes that this framework has better data storage strategies and better tools to analyze data. He hopes to have parsing dates, identifying missing values, correcting character encodings where it is all easier to tidy up the data."
      ],
      "metadata": {
        "id": "ai8P3blg3Ryh"
      },
      "id": "ai8P3blg3Ryh"
    },
    {
      "cell_type": "markdown",
      "id": "da879ea7-8aac-48a3-b6c2-daea56d2e072",
      "metadata": {
        "id": "da879ea7-8aac-48a3-b6c2-daea56d2e072"
      },
      "source": [
        "**Q2.** This question provides some practice cleaning variables which have common problems.\n",
        "1. Numeric variable: For `./data/airbnb_hw.csv`, clean the `Price` variable as well as you can, and explain the choices you make. How many missing values do you end up with? (Hint: What happens to the formatting when a price goes over 999 dollars, say from 675 to 1,112?)\n",
        "2. Categorical variable: For the `./data/sharks.csv` data covered in the lecture, clean the \"Type\" variable as well as you can, and explain the choices you make.\n",
        "3. Dummy variable: For the pretrial data covered in the lecture, clean the `WhetherDefendantWasReleasedPretrial` variable as well as you can, and, in particular, replace missing values with `np.nan`.\n",
        "4. Missing values, not at random: For the pretrial data covered in the lecture, clean the `ImposedSentenceAllChargeInContactEvent` variable as well as you can, and explain the choices you make. (Hint: Look at the `SentenceTypeAllChargesAtConvictionInContactEvent` variable.)"
      ]
    },
    {
      "cell_type": "code",
      "source": [
        "import numpy as np # Import the numpy package into your workspace\n",
        "import pandas as pd  # Import the pandas package into your workspace\n",
        "\n",
        "##########################################################################################\n",
        "###########################################################################################\n",
        "#Q1\n",
        "url = \"https://raw.githubusercontent.com/uvavmc7ht/assignment2/main/data/airbnb_hw.csv\"\n",
        "df_airbnb = pd.read_csv(url,low_memory=False)\n",
        "\n",
        "var = 'Price'\n",
        "#print(df_airbnb[var])\n",
        "#print(df_airbnb[var].unique(),'\\n') # 'n' is not listed in the codebook\n",
        "#print(df_airbnb[var].value_counts(), '\\n') #\n",
        "\n",
        "df_airbnb[var] = df_airbnb[var].str.replace(\",\",\"\")\n",
        "df_airbnb[var] = pd.to_numeric(df_airbnb[var], errors='coerce') # Coerce the variable to numeric\n",
        "\n",
        "#Replace the comma to empty as we cannot do work with comma numbers. Also made any data that is missing a price as Nan if it is missing so\n",
        "#it can still work on data.  0 or 1 is wrong as it would mess up math values so nan is better.\n",
        "\n",
        "##########################################################################################\n",
        "##########################################################################################\n",
        "##########################################################################################\n",
        "##########################################################################################\n",
        "#Q2 Categorical variable: For the ./data/sharks.csv data covered in the lecture,\n",
        "#clean the \"Type\" variable as well as you can, and explain the choices you make.\n",
        "#Replaced empty cells with 'Nan' to create a dummy variables for missing data.\n",
        "url_shark = \"https://raw.githubusercontent.com/uvavmc7ht/assignment2/main/data/sharks.csv\"\n",
        "df_shark= pd.read_csv(url_shark,low_memory=False)\n",
        "var = 'Type'\n",
        "\n",
        "#print(df_shark[var].unique(), \"\\n\")\n",
        "#print(df_shark[var].value_counts(), '\\n')\n",
        "df_shark[var] = df_shark[var].replace('', np.nan) #any missing data become nan.\n",
        "df_shark[var] = df_shark[var].replace(\"Sea Disaster\", \"Unprovoked\") #unlucky sea attack\n",
        "df_shark[var] = df_shark[var].replace(\"Watercraft\", \"Provoked\") #change to one category as it is the same provoked attacked on a raft\n",
        "df_shark[var] = df_shark[var].replace(\"Boating\", \"Provoked\") #change to one category as it is the same provoked attacked\n",
        "df_shark[var] = df_shark[var].replace(\"Boat\", \"Provoked\") #change to one category as it is the same provoked attacked\n",
        "df_shark[var] = df_shark[var].replace(\"Boatomg\", \"Provoked\") #change to one category as it is the same provoked attacked on a wooden structures\n",
        "\n",
        "df_shark[var] = df_shark[var].replace(\"Questionable\", \"Unverified\") #Same thing\n",
        "df_shark[var] = df_shark[var].replace(\"Unconfirmed\", \"Unverified\") #Same meaning\n",
        "df_shark[var] = df_shark[var].replace(\"Under investigation\", \"Unverified\") # same meaning\n",
        "df_shark[var] = df_shark[var].replace(\"Invalid\", \"Unverified\") # same meaning\n",
        "\n",
        "#print(df_shark[var].unique(), \"\\n\")\n",
        "#print(df_shark[var].value_counts(), '\\n')\n",
        "\n",
        "\n"
      ],
      "metadata": {
        "id": "jO1xwfuA7ByS"
      },
      "id": "jO1xwfuA7ByS",
      "execution_count": 62,
      "outputs": []
    },
    {
      "cell_type": "code",
      "source": [
        "#Q3 Dummy variable: For the pretrial data covered in the lecture, clean the\n",
        "#WhetherDefendantWasReleasedPretrial variable as well as you can, and, in particular, replace missing values with np.nan."
      ],
      "metadata": {
        "id": "vNzDmS7ZOOjM"
      },
      "id": "vNzDmS7ZOOjM",
      "execution_count": 112,
      "outputs": []
    },
    {
      "cell_type": "code",
      "source": [
        "url = 'http://www.vcsc.virginia.gov/pretrialdataproject/October%202017%20Cohort_Virginia%20Pretrial%20Data%20Project_Deidentified%20FINAL%20Update_10272021.csv'\n",
        "df = pd.read_csv(url,low_memory=False) # Pandas downloads and loads the .csv file for you"
      ],
      "metadata": {
        "id": "YkO-f1QCfMUr"
      },
      "id": "YkO-f1QCfMUr",
      "execution_count": 142,
      "outputs": []
    },
    {
      "cell_type": "code",
      "source": [
        "var = 'WhetherDefendantWasReleasedPretrial'\n",
        "\n",
        "print(df.columns)\n",
        "print(df['WhetherDefendantWasReleasedPretrial'], \"\\n\")\n",
        "\n"
      ],
      "metadata": {
        "id": "FuBNtfqAOme7",
        "outputId": "8d219dc0-af88-4015-9edc-11c7cf2fef42",
        "colab": {
          "base_uri": "https://localhost:8080/",
          "height": 776
        }
      },
      "id": "FuBNtfqAOme7",
      "execution_count": 150,
      "outputs": [
        {
          "output_type": "stream",
          "name": "stdout",
          "text": [
            "Index(['InternalStudyID', 'REQ_REC#', 'Defendant_Sex', 'Defendant_Race',\n",
            "       'Defendant_BirthYear', 'Defendant_Age', 'Defendant_AgeGroup',\n",
            "       'Defendant_AgeatCurrentArrest', 'Defendant_AttorneyTypeAtCaseClosure',\n",
            "       'Defendant_IndigencyStatus',\n",
            "       ...\n",
            "       'NewFelonySexualAssaultArrest_OffDate',\n",
            "       'NewFelonySexualAssaultArrest_ArrestDate',\n",
            "       'NewFelonySexualAssaultArrest_DaysBetweenContactEventandOffDate',\n",
            "       'NewFelonySexualAssaultArrest_DaysBetweenOffDateandArrestDate',\n",
            "       'NewFelonySexualAssaultArrest_DaysBetweenReleaseDateandOffDate',\n",
            "       'NewFelonySexualAssaultArrest_Disposition',\n",
            "       'Intertnalindicator_ReasonforExcludingFromFollowUpAnalysis',\n",
            "       'CriminalHistoryRecordsReturnedorCMSRecordsFoundforIndividual',\n",
            "       'DispRecordFoundforChargesinOct2017Contact_Atleast1dispfound',\n",
            "       'CrimeCommission2021ReportClassificationofDefendants'],\n",
            "      dtype='object', length=709)\n"
          ]
        },
        {
          "output_type": "error",
          "ename": "KeyError",
          "evalue": "ignored",
          "traceback": [
            "\u001b[0;31m---------------------------------------------------------------------------\u001b[0m",
            "\u001b[0;31mKeyError\u001b[0m                                  Traceback (most recent call last)",
            "\u001b[0;32m/usr/local/lib/python3.10/dist-packages/pandas/core/indexes/base.py\u001b[0m in \u001b[0;36mget_loc\u001b[0;34m(self, key, method, tolerance)\u001b[0m\n\u001b[1;32m   3801\u001b[0m             \u001b[0;32mtry\u001b[0m\u001b[0;34m:\u001b[0m\u001b[0;34m\u001b[0m\u001b[0;34m\u001b[0m\u001b[0m\n\u001b[0;32m-> 3802\u001b[0;31m                 \u001b[0;32mreturn\u001b[0m \u001b[0mself\u001b[0m\u001b[0;34m.\u001b[0m\u001b[0m_engine\u001b[0m\u001b[0;34m.\u001b[0m\u001b[0mget_loc\u001b[0m\u001b[0;34m(\u001b[0m\u001b[0mcasted_key\u001b[0m\u001b[0;34m)\u001b[0m\u001b[0;34m\u001b[0m\u001b[0;34m\u001b[0m\u001b[0m\n\u001b[0m\u001b[1;32m   3803\u001b[0m             \u001b[0;32mexcept\u001b[0m \u001b[0mKeyError\u001b[0m \u001b[0;32mas\u001b[0m \u001b[0merr\u001b[0m\u001b[0;34m:\u001b[0m\u001b[0;34m\u001b[0m\u001b[0;34m\u001b[0m\u001b[0m\n",
            "\u001b[0;32m/usr/local/lib/python3.10/dist-packages/pandas/_libs/index.pyx\u001b[0m in \u001b[0;36mpandas._libs.index.IndexEngine.get_loc\u001b[0;34m()\u001b[0m\n",
            "\u001b[0;32m/usr/local/lib/python3.10/dist-packages/pandas/_libs/index.pyx\u001b[0m in \u001b[0;36mpandas._libs.index.IndexEngine.get_loc\u001b[0;34m()\u001b[0m\n",
            "\u001b[0;32mpandas/_libs/hashtable_class_helper.pxi\u001b[0m in \u001b[0;36mpandas._libs.hashtable.PyObjectHashTable.get_item\u001b[0;34m()\u001b[0m\n",
            "\u001b[0;32mpandas/_libs/hashtable_class_helper.pxi\u001b[0m in \u001b[0;36mpandas._libs.hashtable.PyObjectHashTable.get_item\u001b[0;34m()\u001b[0m\n",
            "\u001b[0;31mKeyError\u001b[0m: 'WhetherDefendantWasReleasedPretrial'",
            "\nThe above exception was the direct cause of the following exception:\n",
            "\u001b[0;31mKeyError\u001b[0m                                  Traceback (most recent call last)",
            "\u001b[0;32m<ipython-input-150-46cb84ebee7c>\u001b[0m in \u001b[0;36m<cell line: 4>\u001b[0;34m()\u001b[0m\n\u001b[1;32m      2\u001b[0m \u001b[0;34m\u001b[0m\u001b[0m\n\u001b[1;32m      3\u001b[0m \u001b[0mprint\u001b[0m\u001b[0;34m(\u001b[0m\u001b[0mdf\u001b[0m\u001b[0;34m.\u001b[0m\u001b[0mcolumns\u001b[0m\u001b[0;34m)\u001b[0m\u001b[0;34m\u001b[0m\u001b[0;34m\u001b[0m\u001b[0m\n\u001b[0;32m----> 4\u001b[0;31m \u001b[0mprint\u001b[0m\u001b[0;34m(\u001b[0m\u001b[0mdf\u001b[0m\u001b[0;34m[\u001b[0m\u001b[0;34m'WhetherDefendantWasReleasedPretrial'\u001b[0m\u001b[0;34m]\u001b[0m\u001b[0;34m,\u001b[0m \u001b[0;34m\"\\n\"\u001b[0m\u001b[0;34m)\u001b[0m\u001b[0;34m\u001b[0m\u001b[0;34m\u001b[0m\u001b[0m\n\u001b[0m\u001b[1;32m      5\u001b[0m \u001b[0mdf\u001b[0m\u001b[0;34m[\u001b[0m\u001b[0mvar\u001b[0m\u001b[0;34m]\u001b[0m \u001b[0;34m=\u001b[0m \u001b[0mdf\u001b[0m\u001b[0;34m[\u001b[0m\u001b[0mvar\u001b[0m\u001b[0;34m]\u001b[0m\u001b[0;34m.\u001b[0m\u001b[0mreplace\u001b[0m\u001b[0;34m(\u001b[0m\u001b[0;34m\"\"\u001b[0m\u001b[0;34m,\u001b[0m\u001b[0mnp\u001b[0m\u001b[0;34m.\u001b[0m\u001b[0mnan\u001b[0m\u001b[0;34m)\u001b[0m\u001b[0;34m\u001b[0m\u001b[0;34m\u001b[0m\u001b[0m\n\u001b[1;32m      6\u001b[0m \u001b[0mprint\u001b[0m\u001b[0;34m(\u001b[0m\u001b[0mdf\u001b[0m\u001b[0;34m[\u001b[0m\u001b[0mvar\u001b[0m\u001b[0;34m]\u001b[0m\u001b[0;34m.\u001b[0m\u001b[0munique\u001b[0m\u001b[0;34m(\u001b[0m\u001b[0;34m)\u001b[0m\u001b[0;34m,\u001b[0m \u001b[0;34m\"\\n\"\u001b[0m\u001b[0;34m)\u001b[0m\u001b[0;34m\u001b[0m\u001b[0;34m\u001b[0m\u001b[0m\n",
            "\u001b[0;32m/usr/local/lib/python3.10/dist-packages/pandas/core/frame.py\u001b[0m in \u001b[0;36m__getitem__\u001b[0;34m(self, key)\u001b[0m\n\u001b[1;32m   3805\u001b[0m             \u001b[0;32mif\u001b[0m \u001b[0mself\u001b[0m\u001b[0;34m.\u001b[0m\u001b[0mcolumns\u001b[0m\u001b[0;34m.\u001b[0m\u001b[0mnlevels\u001b[0m \u001b[0;34m>\u001b[0m \u001b[0;36m1\u001b[0m\u001b[0;34m:\u001b[0m\u001b[0;34m\u001b[0m\u001b[0;34m\u001b[0m\u001b[0m\n\u001b[1;32m   3806\u001b[0m                 \u001b[0;32mreturn\u001b[0m \u001b[0mself\u001b[0m\u001b[0;34m.\u001b[0m\u001b[0m_getitem_multilevel\u001b[0m\u001b[0;34m(\u001b[0m\u001b[0mkey\u001b[0m\u001b[0;34m)\u001b[0m\u001b[0;34m\u001b[0m\u001b[0;34m\u001b[0m\u001b[0m\n\u001b[0;32m-> 3807\u001b[0;31m             \u001b[0mindexer\u001b[0m \u001b[0;34m=\u001b[0m \u001b[0mself\u001b[0m\u001b[0;34m.\u001b[0m\u001b[0mcolumns\u001b[0m\u001b[0;34m.\u001b[0m\u001b[0mget_loc\u001b[0m\u001b[0;34m(\u001b[0m\u001b[0mkey\u001b[0m\u001b[0;34m)\u001b[0m\u001b[0;34m\u001b[0m\u001b[0;34m\u001b[0m\u001b[0m\n\u001b[0m\u001b[1;32m   3808\u001b[0m             \u001b[0;32mif\u001b[0m \u001b[0mis_integer\u001b[0m\u001b[0;34m(\u001b[0m\u001b[0mindexer\u001b[0m\u001b[0;34m)\u001b[0m\u001b[0;34m:\u001b[0m\u001b[0;34m\u001b[0m\u001b[0;34m\u001b[0m\u001b[0m\n\u001b[1;32m   3809\u001b[0m                 \u001b[0mindexer\u001b[0m \u001b[0;34m=\u001b[0m \u001b[0;34m[\u001b[0m\u001b[0mindexer\u001b[0m\u001b[0;34m]\u001b[0m\u001b[0;34m\u001b[0m\u001b[0;34m\u001b[0m\u001b[0m\n",
            "\u001b[0;32m/usr/local/lib/python3.10/dist-packages/pandas/core/indexes/base.py\u001b[0m in \u001b[0;36mget_loc\u001b[0;34m(self, key, method, tolerance)\u001b[0m\n\u001b[1;32m   3802\u001b[0m                 \u001b[0;32mreturn\u001b[0m \u001b[0mself\u001b[0m\u001b[0;34m.\u001b[0m\u001b[0m_engine\u001b[0m\u001b[0;34m.\u001b[0m\u001b[0mget_loc\u001b[0m\u001b[0;34m(\u001b[0m\u001b[0mcasted_key\u001b[0m\u001b[0;34m)\u001b[0m\u001b[0;34m\u001b[0m\u001b[0;34m\u001b[0m\u001b[0m\n\u001b[1;32m   3803\u001b[0m             \u001b[0;32mexcept\u001b[0m \u001b[0mKeyError\u001b[0m \u001b[0;32mas\u001b[0m \u001b[0merr\u001b[0m\u001b[0;34m:\u001b[0m\u001b[0;34m\u001b[0m\u001b[0;34m\u001b[0m\u001b[0m\n\u001b[0;32m-> 3804\u001b[0;31m                 \u001b[0;32mraise\u001b[0m \u001b[0mKeyError\u001b[0m\u001b[0;34m(\u001b[0m\u001b[0mkey\u001b[0m\u001b[0;34m)\u001b[0m \u001b[0;32mfrom\u001b[0m \u001b[0merr\u001b[0m\u001b[0;34m\u001b[0m\u001b[0;34m\u001b[0m\u001b[0m\n\u001b[0m\u001b[1;32m   3805\u001b[0m             \u001b[0;32mexcept\u001b[0m \u001b[0mTypeError\u001b[0m\u001b[0;34m:\u001b[0m\u001b[0;34m\u001b[0m\u001b[0;34m\u001b[0m\u001b[0m\n\u001b[1;32m   3806\u001b[0m                 \u001b[0;31m# If we have a listlike key, _check_indexing_error will raise\u001b[0m\u001b[0;34m\u001b[0m\u001b[0;34m\u001b[0m\u001b[0m\n",
            "\u001b[0;31mKeyError\u001b[0m: 'WhetherDefendantWasReleasedPretrial'"
          ]
        }
      ]
    },
    {
      "cell_type": "code",
      "source": [
        "##########################################################################################\n",
        "##########################################################################################\n",
        "##########################################################################################\n",
        "##########################################################################################\n",
        "#Q4 Missing values, not at random: For the pretrial data covered in the lecture, clean the\n",
        "#ImposedSentenceAllChargeInContactEvent variable as well as you can, and explain the choices\n",
        "#you make. (Hint: Look at the SentenceTypeAllChargesAtConvictionInContactEvent variable.)\n"
      ],
      "metadata": {
        "id": "-68JziecPPUU"
      },
      "id": "-68JziecPPUU",
      "execution_count": null,
      "outputs": []
    },
    {
      "cell_type": "markdown",
      "id": "c11bcd96-2834-41a4-80fe-d354b4277fd9",
      "metadata": {
        "id": "c11bcd96-2834-41a4-80fe-d354b4277fd9"
      },
      "source": [
        "**Q3.** This question provides some practice doing exploratory data analysis and visualization.\n",
        "\n",
        "The \"relevant\" variables for this question are:\n",
        "  - `level` - Level of institution (4-year, 2-year)\n",
        "  - `aid_value` - The average amount of student aid going to undergraduate recipients\n",
        "  - `control` - Public, Private not-for-profit, Private for-profit\n",
        "  - `grad_100_value` - percentage of first-time, full-time, degree-seeking undergraduates who complete a degree or certificate program within 100 percent of expected time (bachelor's-seeking group at 4-year institutions)\n",
        "\n",
        "1. Load the `./data/college_completion.csv` data with Pandas.\n",
        "2. What are are the dimensions of the data? How many observations are there? What are the variables included? Use `.head()` to examine the first few rows of data.\n",
        "3. Cross tabulate `control` and `level`. Describe the patterns you see.\n",
        "4. For `grad_100_value`, create a histogram, kernel density plot, boxplot, and statistical description.\n",
        "5. For `grad_100_value`, create a grouped kernel density plot by `control` and by `level`. Describe what you see. Use `groupby` and `.describe` to make grouped calculations of statistical descriptions of `grad_100_value` by `level` and `control`. Which institutions appear to have the best graduation rates?\n",
        "6. Create a new variable, `df['levelXcontrol']=df['level']+', '+df['control']` that interacts level and control. Make a grouped kernel density plot. Which institutions appear to have the best graduation rates?\n",
        "7. Make a kernel density plot of `aid_value`. Notice that your graph is \"bi-modal\", having two little peaks that represent locally most common values. Now group your graph by `level` and `control`. What explains the bi-modal nature of the graph? Use `groupby` and `.describe` to make grouped calculations of statistical descriptions of `aid_value` by `level` and `control`.\n",
        "8. Make a scatterplot of `grad_100_value` by `aid_value`. Describe what you see. Now make the same plot, grouping by `level` and then `control`. Describe what you see. For which kinds of institutions does aid seem to increase graduation rates?"
      ]
    },
    {
      "cell_type": "markdown",
      "id": "98d34a3b-c21d-4dc9-a8d2-fb7686804ceb",
      "metadata": {
        "id": "98d34a3b-c21d-4dc9-a8d2-fb7686804ceb"
      },
      "source": [
        "**Q4.** This question uses the Airbnb data to practice making visualizations.\n",
        "\n",
        "  1. Load the `./data/airbnb_hw.csv` data with Pandas. You should have cleaned the `Price` variable in question 2, and you'll need it later for this question.\n",
        "  2. What are are the dimensions of the data? How many observations are there? What are the variables included? Use `.head()` to examine the first few rows of data.\n",
        "  3. Cross tabulate `Room Type` and `Property Type`. What patterns do you see in what kinds of rentals are available? For which kinds of properties are private rooms more common than renting the entire property?\n",
        "  4. For `Price`, make a histogram, kernel density, box plot, and a statistical description of the variable. Are the data badly scaled? Are there many outliers? Use `log` to transform price into a new variable, `price_log`, and take these steps again.\n",
        "  5. Make a scatterplot of `price_log` and `Beds`. Describe what you see. Use `.groupby()` to compute a desciption of `Price` conditional on/grouped by the number of beds. Describe any patterns you see in the average price and standard deviation in prices.\n",
        "  6. Make a scatterplot of `price_log` and `Beds`, but color the graph by `Room Type` and `Property Type`. What patterns do you see? Compute a description of `Price` conditional on `Room Type` and `Property Type`. Which Room Type and Property Type have the highest prices on average? Which have the highest standard deviation? Does the mean or median appear to be a more reliable estimate of central tendency, and explain why?\n",
        "  7. We've looked a bit at this `price_log` and `Beds` scatterplot. Use seaborn to make a `jointplot` with `kind=hex`. Where are the data actually distributed? How does it affect the way you think about the plots in 5 and 6?"
      ]
    },
    {
      "cell_type": "markdown",
      "id": "649494cd-cfd6-4f80-992a-9994fc19e1d5",
      "metadata": {
        "id": "649494cd-cfd6-4f80-992a-9994fc19e1d5"
      },
      "source": [
        "**Q5.** Many important datasets contain a race variable, typically limited to a handful of values often including Black, White, Asian, Latino, and Indigenous. This question looks at data gathering efforts on this variable by the U.S. Federal government.\n",
        "\n",
        "1. How did the most recent US Census gather data on race?\n",
        "2. Why do we gather these data? What role do these kinds of data play in politics and society? Why does data quality matter?\n",
        "3. Please provide a constructive criticism of how the Census was conducted: What was done well? What do you think was missing? How should future large scale surveys be adjusted to best reflect the diversity of the population? Could some of the Census' good practices be adopted more widely to gather richer and more useful data?\n",
        "4. How did the Census gather data on sex and gender? Please provide a similar constructive criticism of their practices.\n",
        "5. When it comes to cleaning data, what concerns do you have about protected characteristics like sex, gender, sexual identity, or race? What challenges can you imagine arising when there are missing values? What good or bad practices might people adopt, and why?\n",
        "6. Suppose someone invented an algorithm to impute values for protected characteristics like race, gender, sex, or sexuality. What kinds of concerns would you have?"
      ]
    },
    {
      "cell_type": "markdown",
      "source": [
        "1.They gathered their data by sending a questionnaire by mail to each household that ask them their race. It would be up to the household people to answer their race and ethnicity.\n",
        "\n",
        "2.They gather data to get an overview on demographics and to address and race and ethnicity issues that may arise. This plays a major role in politics and society as some politics may either use this data for good or bad. On whether to gain political votes by gerrymandering or during office to determine funding. In society, it helps to see if your group is being represented. Data quality matters, as if error or wrong data can impact on politics address to certain issues. If they see no issue with wrong data, it can be costly and harm certain people or society.\n"
      ],
      "metadata": {
        "id": "6d9p9DVFiEl3"
      },
      "id": "6d9p9DVFiEl3"
    },
    {
      "cell_type": "markdown",
      "source": [
        "3. They did a good job at how they collected the data. The race category are pretty clear. It is easy to understand and support non English speaker to fill it out by offering it in other languages. The unanimous also helps to get people to fill it out. As well as providing an online version to fill out. One thing they might miss is gathering more data frequently as it can be outdated (like a financial crisis that causes people to move). Large scale survey would be good if they can have like a certain day(s) where people go to a location to fill out the form if they want and this also brings more public awareness. They could add more races or even a blank box if it is too many options. They could get a more accurate data with this Information."
      ],
      "metadata": {
        "id": "CuQofbU4mOHO"
      },
      "id": "CuQofbU4mOHO"
    },
    {
      "cell_type": "markdown",
      "source": [
        "4.They only had two options for sex/gender which was male or female. This can be bad as some people are not neither and it can skew the data as they have to pick one. A better option is to offer more choices or a blank box to consider more people and make the data more accurate and rich."
      ],
      "metadata": {
        "id": "5dMaSDnQmADh"
      },
      "id": "5dMaSDnQmADh"
    },
    {
      "cell_type": "markdown",
      "source": [
        "5. When it comes to data cleaning, one should be careful in not being bias when it comes to sex, gender, sexual identity, or race. Making sure data is fair and non discriminatory. Issues with missing values add challenges as they cannot assume certain parts like gender. Some good practice in cleaning data is being really safe and generlize certain things like gender missing data and put them as nan. However a malicious data cleaner could manipulate the data and put it where it benefits certain groups or attack a group of people."
      ],
      "metadata": {
        "id": "jQoZ8YV5mAXB"
      },
      "id": "jQoZ8YV5mAXB"
    },
    {
      "cell_type": "markdown",
      "source": [
        "6. I would wonder how accurate their algorithm is and how they can prove it. I would also wonder if they followed the code of ethics. I would ask if the Algorithm is biased or not and ask them to prove it."
      ],
      "metadata": {
        "id": "YypuUmvkmAiL"
      },
      "id": "YypuUmvkmAiL"
    },
    {
      "cell_type": "markdown",
      "id": "2f38f2fd-6381-481d-bba9-017f3d363426",
      "metadata": {
        "id": "2f38f2fd-6381-481d-bba9-017f3d363426"
      },
      "source": [
        "**Q6.** Open the `./data/CBO_data.pdf` file. This contains tax data for 2019, explaining where the money comes from that the U.S. Federal Government Spends in terms of taxation on individuals/families and payroll taxes (the amount that your employer pays in taxes on your wages).\n",
        "\n",
        "For some context, the Federal government ultimately spent about $4.4 trillion in 2019, which was 21% of GDP (the total monetary value of all goods and services produced within the United States). Individual Income Taxes is the amount individuals pay on their wages to the Federal government, Corporate Income Taxes is the taxes individuals pay on capital gains from investment when they sell stock or other financial instruments, Payroll Taxes is the tax your employer pays on your wages, Excises and Customs Duties are taxes on goods or services like sin taxes on cigarettes or alcohol, and Estate and Gift Taxes are taxes paid on transfers of wealth to other people.\n",
        "\n",
        "1. Get the Millions of Families and Billions of Dollars data into a .csv file and load it with Pandas.\n",
        "2. Create a bar plot of individual income taxes by income decile. Explain what the graph shows. Why are some values negative?\n",
        "3. Create a bar plot of Total Federal Taxes by income decile. Which deciles are paying net positive amounts, and which are paying net negative amounts?\n",
        "4. Create a stacked bar plot for which Total Federal Taxes is grouped by Individual Income Taxes, Payroll Taxes, Excises and Customs Duties, and Estate and Gift Taxes. How does the share of taxes paid vary across the adjusted income deciles? (Hint: Are these the kind of data you want to melt?)\n",
        "5. Below the Total line for Millions of Families and Billions of Dollars, there are data for the richest of the richest families. Plot this alongside the bars for the deciles above the Total line. Describe your results.\n",
        "6. Get the Percent Distribution data into a .csv file and load it with Pandas. Create a bar graph of Total Federal Taxes by income decile.\n",
        "7. A tax system is progressive if higher-income and wealthier individuals pay more than lower-income and less wealthy individuals, and it is regressive if the opposite is true. Is the U.S. tax system progressive in terms of amount paid? In terms of the percentage of the overall total?\n",
        "8. Do the rich pay enough in taxes? Defend your answer."
      ]
    }
  ],
  "metadata": {
    "kernelspec": {
      "display_name": "Python 3 (ipykernel)",
      "language": "python",
      "name": "python3"
    },
    "language_info": {
      "codemirror_mode": {
        "name": "ipython",
        "version": 3
      },
      "file_extension": ".py",
      "mimetype": "text/x-python",
      "name": "python",
      "nbconvert_exporter": "python",
      "pygments_lexer": "ipython3",
      "version": "3.10.4"
    },
    "colab": {
      "provenance": []
    }
  },
  "nbformat": 4,
  "nbformat_minor": 5
}