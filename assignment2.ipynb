{
  "cells": [
    {
      "cell_type": "markdown",
      "id": "13ad028b-72b7-43ed-aa78-96fd4e518040",
      "metadata": {
        "id": "13ad028b-72b7-43ed-aa78-96fd4e518040"
      },
      "source": [
        "# Assignment: Data Wrangling and Exploratory Data Analysis\n",
        "## Do Q1 and Q2, and one other question.\n",
        "`! git clone https://www.github.com/DS3001/assignment2`"
      ]
    },
    {
      "cell_type": "markdown",
      "id": "5735a4d4-8be8-433a-a351-70eb8002e632",
      "metadata": {
        "id": "5735a4d4-8be8-433a-a351-70eb8002e632"
      },
      "source": [
        "**Q1.** Open the \"tidy_data.pdf\" document in the repo, which is a paper called Tidy Data by Hadley Wickham.\n",
        "\n",
        "  1. Read the abstract. What is this paper about?\n",
        "  2. Read the introduction. What is the \"tidy data standard\" intended to accomplish?\n",
        "  3. Read the intro to section 2. What does this sentence mean: \"Like families, tidy datasets are all alike but every messy dataset is messy in its own way.\" What does this sentence mean: \"For a given dataset, it’s usually easy to figure out what are observations and what are variables, but it is surprisingly difficult to precisely define variables and observations in general.\"\n",
        "  4. Read Section 2.2. How does Wickham define values, variables, and observations?\n",
        "  5. How is \"Tidy Data\" defined in section 2.3?\n",
        "  6. Read the intro to Section 3 and Section 3.1. What are the 5 most common problems with messy datasets? Why are the data in Table 4 messy? What is \"melting\" a dataset?\n",
        "  7. Why, specifically, is table 11 messy but table 12 tidy and \"molten\"?\n",
        "  8. Read Section 6. What is the \"chicken-and-egg\" problem with focusing on tidy data? What does Wickham hope happens in the future with further work on the subject of data wrangling?"
      ]
    },
    {
      "cell_type": "markdown",
      "source": [
        "1. The paper is about going over on how to important it is to tidy up data and few people talk about how to tidy up data. This paper will talk about how to tidy up paper with using a small set of tool to do lots of data cleaning. It uses a frame work where it has a specific structure. Each variable is a column, each observation is a row, and each type of observational unit is a table. This makes it easy to model and look at the data."
      ],
      "metadata": {
        "id": "lJ9t_K1chCER"
      },
      "id": "lJ9t_K1chCER"
    },
    {
      "cell_type": "markdown",
      "source": [
        "2.Tidy data standard main goal is to make data cleaning easier and use the same process each time you obtain new data. It stops you from spending a lot of time cleaning data each time and instead use that time to anyazle data."
      ],
      "metadata": {
        "id": "lAZDfY6bjYJJ"
      },
      "id": "lAZDfY6bjYJJ"
    },
    {
      "cell_type": "markdown",
      "source": [
        "3. The first sentence means that all tidy datasets have the same identical structure such as having columns with variables, rows with obervations etc. While messy datasets are\n",
        "different with unique problems such as missing variables or missing rows as well as different formats thats hard to use tools on. The second sentence means that it is easy to\n",
        "look at observations such as two columns height and legth being clear, but in more complicated cases, its harder to name the observations and variables as it might not be\n",
        "clear for other people in different environments."
      ],
      "metadata": {
        "id": "5UKJE1h_wtHz"
      },
      "id": "5UKJE1h_wtHz"
    },
    {
      "cell_type": "markdown",
      "source": [
        "4.A variable: contains all values that measure the same underlying attributes  across units. (like height, temperature, duration)\n",
        "Observation:contains all values measured on the same unit across attributes. (like a person, or a day, or a race)\n",
        "values: Either numbers (if quantitative) or strings (if qualitative) of a dataset"
      ],
      "metadata": {
        "id": "8ZYF5tervpKS"
      },
      "id": "8ZYF5tervpKS"
    },
    {
      "cell_type": "markdown",
      "source": [
        "5.Tidy data follows a structural with its dataset. A dataset is considered tidy depending on how rows, columns and tables are matched up with observations, variables and types. Tidy data have these characteristics listed.\n",
        "1. Each variable forms a column.\n",
        "2. Each observation forms a row.\n",
        "3. Each type of observational unit forms a table."
      ],
      "metadata": {
        "id": "g1Xnytyfwv4A"
      },
      "id": "g1Xnytyfwv4A"
    },
    {
      "cell_type": "markdown",
      "source": [
        "6. 5 common problems with messy data is that column headers are values instead of variable names. Multiple variables are stored in one column. Variables are stored in both rows and columns. Multiple types of observational units are stored in the same table. A single observational unit is stored in multiple tables.\n",
        " Table 4 is considered messy because it has income spread out across multiple columns instead of using just 1 column income for the data. Melting the data means you turn columns into rows and stack the data into one big column. In this case it would be turning all the income intervals columns and combine then to just one income column that is really long."
      ],
      "metadata": {
        "id": "4tINwyr0xwYF"
      },
      "id": "4tINwyr0xwYF"
    },
    {
      "cell_type": "markdown",
      "source": [
        "7. Table 11 is messy because there are some variables in both rows and columns. The dates are spread out with a lot of unnecessary taking up space with a lot of empty lines. The element column adds on to being messy due to containing variables as it should be its own column. Table 12 is Tidy and Molten because it takes all the all dates columns and combines them to just one column called Date saving up a ton of space. It is finally tidy when it takes the Element column and gives those variables into their own columns. This saves a lot of space.  "
      ],
      "metadata": {
        "id": "F_NFBt0A0Mwj"
      },
      "id": "F_NFBt0A0Mwj"
    },
    {
      "cell_type": "markdown",
      "source": [
        "8. The chicken-and-egg in tidy data problem refers to either to clean the data first before looking at the data or to look at the data first then clean as you move on.\n",
        "\n",
        "He hopes that this framework has better data storage strategies and better tools to analyze data. He hopes to have parsing dates, identifying missing values, correcting character encodings where it is all easier to tidy up the data."
      ],
      "metadata": {
        "id": "ai8P3blg3Ryh"
      },
      "id": "ai8P3blg3Ryh"
    },
    {
      "cell_type": "markdown",
      "id": "da879ea7-8aac-48a3-b6c2-daea56d2e072",
      "metadata": {
        "id": "da879ea7-8aac-48a3-b6c2-daea56d2e072"
      },
      "source": [
        "**Q2.** This question provides some practice cleaning variables which have common problems.\n",
        "1. Numeric variable: For `./data/airbnb_hw.csv`, clean the `Price` variable as well as you can, and explain the choices you make. How many missing values do you end up with? (Hint: What happens to the formatting when a price goes over 999 dollars, say from 675 to 1,112?)\n",
        "2. Categorical variable: For the `./data/sharks.csv` data covered in the lecture, clean the \"Type\" variable as well as you can, and explain the choices you make.\n",
        "3. Dummy variable: For the pretrial data covered in the lecture, clean the `WhetherDefendantWasReleasedPretrial` variable as well as you can, and, in particular, replace missing values with `np.nan`.\n",
        "4. Missing values, not at random: For the pretrial data covered in the lecture, clean the `ImposedSentenceAllChargeInContactEvent` variable as well as you can, and explain the choices you make. (Hint: Look at the `SentenceTypeAllChargesAtConvictionInContactEvent` variable.)"
      ]
    },
    {
      "cell_type": "code",
      "source": [
        "import numpy as np # Import the numpy package into your workspace\n",
        "import pandas as pd  # Import the pandas package into your workspace\n",
        "\n",
        "##########################################################################################\n",
        "###########################################################################################\n",
        "#Q1\n",
        "url = \"https://raw.githubusercontent.com/uvavmc7ht/assignment2/main/data/airbnb_hw.csv\"\n",
        "df_airbnb = pd.read_csv(url,low_memory=False)\n",
        "\n",
        "var = 'Price'\n",
        "#print(df_airbnb[var])\n",
        "#print(df_airbnb[var].unique(),'\\n') # 'n' is not listed in the codebook\n",
        "#print(df_airbnb[var].value_counts(), '\\n') #\n",
        "\n",
        "df_airbnb[var] = df_airbnb[var].str.replace(\",\",\"\")\n",
        "df_airbnb[var] = pd.to_numeric(df_airbnb[var], errors='coerce') # Coerce the variable to numeric\n",
        "\n",
        "#Replace the comma to empty as we cannot do work with comma numbers. Also made any data that is missing a price as Nan if it is missing so\n",
        "#it can still work on data.  0 or 1 is wrong as it would mess up math values so nan is better.\n",
        "\n",
        "##########################################################################################\n",
        "##########################################################################################\n",
        "##########################################################################################\n",
        "##########################################################################################\n",
        "#Q2 Categorical variable: For the ./data/sharks.csv data covered in the lecture,\n",
        "#clean the \"Type\" variable as well as you can, and explain the choices you make.\n",
        "#Replaced empty cells with 'Nan' to create a dummy variables for missing data.\n",
        "url_shark = \"https://raw.githubusercontent.com/uvavmc7ht/assignment2/main/data/sharks.csv\"\n",
        "df_shark= pd.read_csv(url_shark,low_memory=False)\n",
        "var = 'Type'\n",
        "\n",
        "#print(df_shark[var].unique(), \"\\n\")\n",
        "#print(df_shark[var].value_counts(), '\\n')\n",
        "df_shark[var] = df_shark[var].replace('', np.nan) #any missing data become nan.\n",
        "df_shark[var] = df_shark[var].replace(\"Sea Disaster\", \"Unprovoked\") #unlucky sea attack\n",
        "df_shark[var] = df_shark[var].replace(\"Watercraft\", \"Provoked\") #change to one category as it is the same provoked attacked on a raft\n",
        "df_shark[var] = df_shark[var].replace(\"Boating\", \"Provoked\") #change to one category as it is the same provoked attacked\n",
        "df_shark[var] = df_shark[var].replace(\"Boat\", \"Provoked\") #change to one category as it is the same provoked attacked\n",
        "df_shark[var] = df_shark[var].replace(\"Boatomg\", \"Provoked\") #change to one category as it is the same provoked attacked on a wooden structures\n",
        "\n",
        "df_shark[var] = df_shark[var].replace(\"Questionable\", \"Unverified\") #Same thing\n",
        "df_shark[var] = df_shark[var].replace(\"Unconfirmed\", \"Unverified\") #Same meaning\n",
        "df_shark[var] = df_shark[var].replace(\"Under investigation\", \"Unverified\") # same meaning\n",
        "df_shark[var] = df_shark[var].replace(\"Invalid\", \"Unverified\") # same meaning\n",
        "\n",
        "#print(df_shark[var].unique(), \"\\n\")\n",
        "#print(df_shark[var].value_counts(), '\\n')\n",
        "\n",
        "\n"
      ],
      "metadata": {
        "id": "jO1xwfuA7ByS",
        "outputId": "350cb30d-2593-42ea-dc83-ee1c03b489c8",
        "colab": {
          "base_uri": "https://localhost:8080/"
        }
      },
      "id": "jO1xwfuA7ByS",
      "execution_count": 200,
      "outputs": [
        {
          "output_type": "stream",
          "name": "stdout",
          "text": [
            "Unprovoked    4955\n",
            "Provoked       937\n",
            "Unverified     565\n",
            "Name: Type, dtype: int64 \n",
            "\n"
          ]
        }
      ]
    },
    {
      "cell_type": "code",
      "source": [
        "#Q3 Dummy variable: For the pretrial data covered in the lecture, clean the\n",
        "#WhetherDefendantWasReleasedPretrial variable as well as you can, and, in particular, replace missing values with np.nan."
      ],
      "metadata": {
        "id": "vNzDmS7ZOOjM"
      },
      "id": "vNzDmS7ZOOjM",
      "execution_count": null,
      "outputs": []
    },
    {
      "cell_type": "code",
      "source": [
        "url = 'http://www.vcsc.virginia.gov/pretrialdataproject/October%202017%20Cohort_Virginia%20Pretrial%20Data%20Project_Deidentified%20FINAL%20Update_10272021.csv'\n",
        "df = pd.read_csv(url,low_memory=False) # Pandas downloads and loads the .csv file for you"
      ],
      "metadata": {
        "id": "YkO-f1QCfMUr"
      },
      "id": "YkO-f1QCfMUr",
      "execution_count": 201,
      "outputs": []
    },
    {
      "cell_type": "code",
      "source": [
        "backup_copy = df"
      ],
      "metadata": {
        "id": "zNy8WG2FvS9X"
      },
      "id": "zNy8WG2FvS9X",
      "execution_count": 169,
      "outputs": []
    },
    {
      "cell_type": "code",
      "source": [
        "df = backup_copy"
      ],
      "metadata": {
        "id": "fjFA8YfcvX9q"
      },
      "id": "fjFA8YfcvX9q",
      "execution_count": 179,
      "outputs": []
    },
    {
      "cell_type": "code",
      "source": [
        "var = 'WhetherDefendantWasReleasedPretrial'\n",
        "\n",
        "print(df[var].unique(), \"\\n\")\n",
        "print(df[var].value_counts(), '\\n')\n",
        "\n",
        "#replace 9 or empty into nan as 1 & 0 are already taken up\n",
        "df[var] = df[var].replace(9, np.nan)\n",
        "df[var] = df[var].replace('', np.nan)\n",
        "print(df[var].unique(), \"\\n\")\n",
        "print(df[var].value_counts(), '\\n')\n"
      ],
      "metadata": {
        "id": "FuBNtfqAOme7",
        "outputId": "01bc90cd-9a98-4473-d790-0d91dfc87d23",
        "colab": {
          "base_uri": "https://localhost:8080/"
        }
      },
      "id": "FuBNtfqAOme7",
      "execution_count": 202,
      "outputs": [
        {
          "output_type": "stream",
          "name": "stdout",
          "text": [
            "[9 0 1] \n",
            "\n",
            "1    19154\n",
            "0     3801\n",
            "9       31\n",
            "Name: WhetherDefendantWasReleasedPretrial, dtype: int64 \n",
            "\n",
            "[nan  0.  1.] \n",
            "\n",
            "1.0    19154\n",
            "0.0     3801\n",
            "Name: WhetherDefendantWasReleasedPretrial, dtype: int64 \n",
            "\n"
          ]
        }
      ]
    },
    {
      "cell_type": "code",
      "source": [
        "##########################################################################################\n",
        "##########################################################################################\n",
        "##########################################################################################\n",
        "##########################################################################################\n",
        "#Q4 Missing values, not at random: For the pretrial data covered in the lecture, clean the\n",
        "#ImposedSentenceAllChargeInContactEvent variable as well as you can, and explain the choices\n",
        "#you make. (Hint: Look at the SentenceTypeAllChargesAtConvictionInContactEvent variable.)\n",
        "\n",
        "var = 'SentenceTypeAllChargesAtConvictionInContactEvent'\n",
        "\n",
        "print(df[var].unique(), \"\\n\")\n",
        "\n",
        "\n",
        "var = 'ImposedSentenceAllChargeInContactEvent'\n",
        "\n",
        "#print(df[var].unique(), \"\\n\")\n",
        "df.loc[df['SentenceTypeAllChargesAtConvictionInContactEvent'] == 9,var ] = np.nan # missing\n",
        "df[var] = df[var].replace(' ', np.nan)  # missing\n",
        "df.loc[df['SentenceTypeAllChargesAtConvictionInContactEvent'] == 0,var ] = 0 # time should be zero\n",
        "df.loc[df['SentenceTypeAllChargesAtConvictionInContactEvent'] == 4,var ] = 0 # time should be zero\n",
        "#print(df[var].unique(), \"\\n\")\n"
      ],
      "metadata": {
        "id": "-68JziecPPUU",
        "outputId": "6e57a046-91fd-4ce3-a71a-4ee4422f5582",
        "colab": {
          "base_uri": "https://localhost:8080/"
        }
      },
      "id": "-68JziecPPUU",
      "execution_count": 215,
      "outputs": [
        {
          "output_type": "stream",
          "name": "stdout",
          "text": [
            "[9 0 1 4 2] \n",
            "\n",
            "[nan 0 '12' '.985626283367556' '36' '24' '120' '60' '72'\n",
            " '11.9917864476386' '84' '180' '4' '96' '2' '44' '5' '115' '132'\n",
            " '.328542094455852' '48' '258' '34' '76' '.131416837782341' '111' '9' '3'\n",
            " '6' '1.97125256673511' '36.9856262833676' '.0657084188911704'\n",
            " '35.4928131416838' '106.492813141684' '8' '54' '18.3141683778234' '480'\n",
            " '32' '93' '234' '732' '1.16427104722793' '240' '4.6570841889117' '21' '7'\n",
            " '4.49281314168378' '18' '600' '43.1642710472279' '179' '300' '52' '20'\n",
            " '192' '702' '14' '55' '5.91375770020534' '30' '108' '68'\n",
            " '.657084188911704' '46.6242299794661' '65' '200' '2.95687885010267'\n",
            " '24.3285420944559' '12.1642710472279' '117' '81.4928131416838'\n",
            " '22.4928131416838' '1980' '3.6570841889117' '56' '10' '2.79260780287474'\n",
            " '1' '47' '22' '102' '1500' '40' '284' '11' '42' '162' '156'\n",
            " '47.2956878850103' '105' '51' '246' '75' '324' '360' '34.4804928131417'\n",
            " '120.328542094456' '66' '59.9917864476386' '29' '660' '51.1642710472279'\n",
            " '14.9568788501027' '78' '228' '1.47843942505133' '168' '33'\n",
            " '48.0328542094456' '720' '348' '1200' '49' '87' '420' '63'\n",
            " '79.9260780287474' '49.9712525667351' '59.4928131416838' '53'\n",
            " '238.492813141684' '60.9856262833676' '126' '57' '45' '216'\n",
            " '42.9568788501027' '70.952772073922' '516' '177.82135523614' '1752' '90'\n",
            " '35' '1080' '141' '4.82956878850103' '31' '2208' '69' '140' '131' '27'\n",
            " '219' '17' '101' '71' '58' '120.197125256674' '67' '35.4004106776181'\n",
            " '3.28542094455852' '40.1642710472279' '1.7741273100616' '155'\n",
            " '34.4928131416838' '81' '92.3285420944559' '3.5482546201232' '59' '207'\n",
            " '74' '518' '23' '237' '404.673511293634' '10.7433264887064' '551' '39'\n",
            " '15' '124' '43' '176' '19.4928131416838' '482' '114' '88' '46'\n",
            " '45.8542094455852' '128.628336755647' '136.492813141684'\n",
            " '108.328542094456' '50' '118' '288' '250' '81.0225872689938' '444' '205'\n",
            " '10.6570841889117' '19' '107' '66.9856262833676' '38.4928131416838' '264'\n",
            " '173' '.164271047227926' '144' '294' '336' '431' '73' '99.3285420944559'\n",
            " '128' '30.8069815195072' '31.5256673511294' '127' '202'\n",
            " '55.3285420944559' '89' '18.1642710472279' '1029' '194.858316221766'\n",
            " '39.6570841889117' '56.95687885' '198' '120.985626283368'\n",
            " '47.6570841889117' '148' '6.8993839835729' '65.3285420944559'\n",
            " '3.98562628336756' '3.32854209445585' '3.94250513347023'\n",
            " '15.1642710472279' '17.1971252566735' '17.9137577002053'\n",
            " '1.31416837782341' '104' '212' '24.6570841889117' '72.6570841889117'\n",
            " '144.985626283368' '31.9712525667351' '183' '4.98562628336756' '252'\n",
            " '12.394250513347' '42.4928131416838' '5.95277207392197'\n",
            " '12.3285420944559' '48.9856262833676' '240.985626283368' '540'\n",
            " '2.97125256673511' '6.32854209445585' '133.657084188912'\n",
            " '35.3285420944559' '456' '103' '12.9856262833676' '12.6570841889117'\n",
            " '11.6570841889117' '60.3285420944559' '3.78850102669405' '576'\n",
            " '2.13141683778234' '492' '14.9856262833676' '6.98562628336756' '16'\n",
            " '42.1642710472279' '.492813141683778' '138' '13.3141683778234'\n",
            " '11.8932238193018' '5.49281314168378' '95' '62.6570841889117'\n",
            " '3.08829568788501' '11.8275154004107' '1.64271047227926'\n",
            " '47.9917864476386' '4.27104722792608' '8.32854209445585'\n",
            " '3.31416837782341' '70' '1.09856262833676' '48.1642710472279'\n",
            " '2.98562628336756' '27.4928131416838' '1011' '.68993839835729'\n",
            " '10.1642710472279' '1.1170431211499' '.788501026694045'\n",
            " '1.49281314168378' '4.16427104722793' '1.19712525667351'\n",
            " '4.07392197125257' '188' '.0985626283367557' '11.3285420944559'\n",
            " '.0328542094455852' '432' '11.952772073922' '36.4928131416838'\n",
            " '9.98562628336756' '98' '36.3285420944559' '112' '.394250513347023' '13'\n",
            " '.262833675564682' '5.8870636550308' '354' '24.9856262833676'\n",
            " '24.1642710472279' '62.95687885' '4.59958932238193' '123'\n",
            " '2.32854209445585' '23.9240246406571' '2.6570841889117' '204'\n",
            " '11.8213552361396' '174' '16.1498973305955' '840' '440' '98.95687885'\n",
            " '17.952772073922' '63.9425051334702' '60.1314168377823' '26'\n",
            " '172.952772073922' '.197125256673511' '138.164271047228'\n",
            " '23.9835728952772' '4.92813141683778' '.919917864476386'\n",
            " '18.9856262833676' '6.6570841889117' '2.85420944558522'\n",
            " '8.91375770020534' '146' '12.4928131416838' '.558521560574949'\n",
            " '.722792607802875' '5.82135523613963' '5.6570841889117'\n",
            " '84.9856262833676' '6.16427104722793' '15.9856262833676'\n",
            " '38.299794661191' '3.1211498973306' '126.328542094456' '5.16427104722793'\n",
            " '312' '19.9712525667351' '82.3285420944559' '23.9712525667351'\n",
            " '17.6242299794661' '121.971252566735' '11.1642710472279'\n",
            " '59.6550308008214' '1.32854209445585' '7.97125256673511'\n",
            " '5.32854209445585' '.525667351129363' '9.32854209445585'\n",
            " '42.9856262833676' '41.9137577002053' '72.9856262833676'\n",
            " '61.9712525667351' '13.1498973305955' '12.4784394250513'\n",
            " '5.19096509240246' '473' '16.6570841889117' '109' '86.3285420944559' '41'\n",
            " '1.90554414784394' '94.1642710472279' '302' '4.39425051334702'\n",
            " '18.3285420944559' '154' '83' '110.956878850103' '226' '96.0328542094456'\n",
            " '4.82135523613963' '30.3285420944559' '37.9712525667351'\n",
            " '50.4640657084189' '286' '99' '99.4928131416838' '2.6611909650924'\n",
            " '.459958932238193' '12.1314168377823' '132.492813141684' '283'\n",
            " '49.3141683778234' '27.9856262833676' '83.6550308008214'\n",
            " '162.328542094456' '37' '132.328542094456' '165' '10.9856262833676'\n",
            " '20.1642710472279' '2.59137577002053' '175' '180.985626283368'\n",
            " '10.3285420944559' '36.1642710472279' '120.657084188912' '152'\n",
            " '8.98562628336756' '11.0657084188912' '5.19712525667351'\n",
            " '3.16427104722793' '86' '38' '60.1642710472279' '1.18275154004107'\n",
            " '21.1642710472279' '2.19712525667351' '4.19712525667351'\n",
            " '2.62833675564682' '119.958932238193' '9.49281314168378'\n",
            " '15.3285420944559' '48.6570841889117' '5.95687885010267'\n",
            " '2.29979466119097' '960' '2.36550308008214' '116' '19.5133470225873'\n",
            " '1.6570841889117'] \n",
            "\n"
          ]
        }
      ]
    },
    {
      "cell_type": "markdown",
      "id": "c11bcd96-2834-41a4-80fe-d354b4277fd9",
      "metadata": {
        "id": "c11bcd96-2834-41a4-80fe-d354b4277fd9"
      },
      "source": [
        "**Q3.** This question provides some practice doing exploratory data analysis and visualization.\n",
        "\n",
        "The \"relevant\" variables for this question are:\n",
        "  - `level` - Level of institution (4-year, 2-year)\n",
        "  - `aid_value` - The average amount of student aid going to undergraduate recipients\n",
        "  - `control` - Public, Private not-for-profit, Private for-profit\n",
        "  - `grad_100_value` - percentage of first-time, full-time, degree-seeking undergraduates who complete a degree or certificate program within 100 percent of expected time (bachelor's-seeking group at 4-year institutions)\n",
        "\n",
        "1. Load the `./data/college_completion.csv` data with Pandas.\n",
        "2. What are are the dimensions of the data? How many observations are there? What are the variables included? Use `.head()` to examine the first few rows of data.\n",
        "3. Cross tabulate `control` and `level`. Describe the patterns you see.\n",
        "4. For `grad_100_value`, create a histogram, kernel density plot, boxplot, and statistical description.\n",
        "5. For `grad_100_value`, create a grouped kernel density plot by `control` and by `level`. Describe what you see. Use `groupby` and `.describe` to make grouped calculations of statistical descriptions of `grad_100_value` by `level` and `control`. Which institutions appear to have the best graduation rates?\n",
        "6. Create a new variable, `df['levelXcontrol']=df['level']+', '+df['control']` that interacts level and control. Make a grouped kernel density plot. Which institutions appear to have the best graduation rates?\n",
        "7. Make a kernel density plot of `aid_value`. Notice that your graph is \"bi-modal\", having two little peaks that represent locally most common values. Now group your graph by `level` and `control`. What explains the bi-modal nature of the graph? Use `groupby` and `.describe` to make grouped calculations of statistical descriptions of `aid_value` by `level` and `control`.\n",
        "8. Make a scatterplot of `grad_100_value` by `aid_value`. Describe what you see. Now make the same plot, grouping by `level` and then `control`. Describe what you see. For which kinds of institutions does aid seem to increase graduation rates?"
      ]
    },
    {
      "cell_type": "markdown",
      "id": "98d34a3b-c21d-4dc9-a8d2-fb7686804ceb",
      "metadata": {
        "id": "98d34a3b-c21d-4dc9-a8d2-fb7686804ceb"
      },
      "source": [
        "**Q4.** This question uses the Airbnb data to practice making visualizations.\n",
        "\n",
        "  1. Load the `./data/airbnb_hw.csv` data with Pandas. You should have cleaned the `Price` variable in question 2, and you'll need it later for this question.\n",
        "  2. What are are the dimensions of the data? How many observations are there? What are the variables included? Use `.head()` to examine the first few rows of data.\n",
        "  3. Cross tabulate `Room Type` and `Property Type`. What patterns do you see in what kinds of rentals are available? For which kinds of properties are private rooms more common than renting the entire property?\n",
        "  4. For `Price`, make a histogram, kernel density, box plot, and a statistical description of the variable. Are the data badly scaled? Are there many outliers? Use `log` to transform price into a new variable, `price_log`, and take these steps again.\n",
        "  5. Make a scatterplot of `price_log` and `Beds`. Describe what you see. Use `.groupby()` to compute a desciption of `Price` conditional on/grouped by the number of beds. Describe any patterns you see in the average price and standard deviation in prices.\n",
        "  6. Make a scatterplot of `price_log` and `Beds`, but color the graph by `Room Type` and `Property Type`. What patterns do you see? Compute a description of `Price` conditional on `Room Type` and `Property Type`. Which Room Type and Property Type have the highest prices on average? Which have the highest standard deviation? Does the mean or median appear to be a more reliable estimate of central tendency, and explain why?\n",
        "  7. We've looked a bit at this `price_log` and `Beds` scatterplot. Use seaborn to make a `jointplot` with `kind=hex`. Where are the data actually distributed? How does it affect the way you think about the plots in 5 and 6?"
      ]
    },
    {
      "cell_type": "markdown",
      "id": "649494cd-cfd6-4f80-992a-9994fc19e1d5",
      "metadata": {
        "id": "649494cd-cfd6-4f80-992a-9994fc19e1d5"
      },
      "source": [
        "**Q5.** Many important datasets contain a race variable, typically limited to a handful of values often including Black, White, Asian, Latino, and Indigenous. This question looks at data gathering efforts on this variable by the U.S. Federal government.\n",
        "\n",
        "1. How did the most recent US Census gather data on race?\n",
        "2. Why do we gather these data? What role do these kinds of data play in politics and society? Why does data quality matter?\n",
        "3. Please provide a constructive criticism of how the Census was conducted: What was done well? What do you think was missing? How should future large scale surveys be adjusted to best reflect the diversity of the population? Could some of the Census' good practices be adopted more widely to gather richer and more useful data?\n",
        "4. How did the Census gather data on sex and gender? Please provide a similar constructive criticism of their practices.\n",
        "5. When it comes to cleaning data, what concerns do you have about protected characteristics like sex, gender, sexual identity, or race? What challenges can you imagine arising when there are missing values? What good or bad practices might people adopt, and why?\n",
        "6. Suppose someone invented an algorithm to impute values for protected characteristics like race, gender, sex, or sexuality. What kinds of concerns would you have?"
      ]
    },
    {
      "cell_type": "markdown",
      "source": [
        "1.They gathered their data by sending a questionnaire by mail to each household that ask them their race. It would be up to the household people to answer their race and ethnicity.\n",
        "\n",
        "2.They gather data to get an overview on demographics and to address and race and ethnicity issues that may arise. This plays a major role in politics and society as some politics may either use this data for good or bad. On whether to gain political votes by gerrymandering or during office to determine funding. In society, it helps to see if your group is being represented. Data quality matters, as if error or wrong data can impact on politics address to certain issues. If they see no issue with wrong data, it can be costly and harm certain people or society.\n"
      ],
      "metadata": {
        "id": "6d9p9DVFiEl3"
      },
      "id": "6d9p9DVFiEl3"
    },
    {
      "cell_type": "markdown",
      "source": [
        "3. They did a good job at how they collected the data. The race category are pretty clear. It is easy to understand and support non English speaker to fill it out by offering it in other languages. The unanimous also helps to get people to fill it out. As well as providing an online version to fill out. One thing they might miss is gathering more data frequently as it can be outdated (like a financial crisis that causes people to move). Large scale survey would be good if they can have like a certain day(s) where people go to a location to fill out the form if they want and this also brings more public awareness. They could add more races or even a blank box if it is too many options. They could get a more accurate data with this Information."
      ],
      "metadata": {
        "id": "CuQofbU4mOHO"
      },
      "id": "CuQofbU4mOHO"
    },
    {
      "cell_type": "markdown",
      "source": [
        "4.They only had two options for sex/gender which was male or female. This can be bad as some people are not neither and it can skew the data as they have to pick one. A better option is to offer more choices or a blank box to consider more people and make the data more accurate and rich."
      ],
      "metadata": {
        "id": "5dMaSDnQmADh"
      },
      "id": "5dMaSDnQmADh"
    },
    {
      "cell_type": "markdown",
      "source": [
        "5. When it comes to data cleaning, one should be careful in not being bias when it comes to sex, gender, sexual identity, or race. Making sure data is fair and non discriminatory. Issues with missing values add challenges as they cannot assume certain parts like gender. Some good practice in cleaning data is being really safe and generlize certain things like gender missing data and put them as nan. However a malicious data cleaner could manipulate the data and put it where it benefits certain groups or attack a group of people."
      ],
      "metadata": {
        "id": "jQoZ8YV5mAXB"
      },
      "id": "jQoZ8YV5mAXB"
    },
    {
      "cell_type": "markdown",
      "source": [
        "6. I would wonder how accurate their algorithm is and how they can prove it. I would also wonder if they followed the code of ethics. I would ask if the Algorithm is biased or not and ask them to prove it."
      ],
      "metadata": {
        "id": "YypuUmvkmAiL"
      },
      "id": "YypuUmvkmAiL"
    },
    {
      "cell_type": "markdown",
      "id": "2f38f2fd-6381-481d-bba9-017f3d363426",
      "metadata": {
        "id": "2f38f2fd-6381-481d-bba9-017f3d363426"
      },
      "source": [
        "**Q6.** Open the `./data/CBO_data.pdf` file. This contains tax data for 2019, explaining where the money comes from that the U.S. Federal Government Spends in terms of taxation on individuals/families and payroll taxes (the amount that your employer pays in taxes on your wages).\n",
        "\n",
        "For some context, the Federal government ultimately spent about $4.4 trillion in 2019, which was 21% of GDP (the total monetary value of all goods and services produced within the United States). Individual Income Taxes is the amount individuals pay on their wages to the Federal government, Corporate Income Taxes is the taxes individuals pay on capital gains from investment when they sell stock or other financial instruments, Payroll Taxes is the tax your employer pays on your wages, Excises and Customs Duties are taxes on goods or services like sin taxes on cigarettes or alcohol, and Estate and Gift Taxes are taxes paid on transfers of wealth to other people.\n",
        "\n",
        "1. Get the Millions of Families and Billions of Dollars data into a .csv file and load it with Pandas.\n",
        "2. Create a bar plot of individual income taxes by income decile. Explain what the graph shows. Why are some values negative?\n",
        "3. Create a bar plot of Total Federal Taxes by income decile. Which deciles are paying net positive amounts, and which are paying net negative amounts?\n",
        "4. Create a stacked bar plot for which Total Federal Taxes is grouped by Individual Income Taxes, Payroll Taxes, Excises and Customs Duties, and Estate and Gift Taxes. How does the share of taxes paid vary across the adjusted income deciles? (Hint: Are these the kind of data you want to melt?)\n",
        "5. Below the Total line for Millions of Families and Billions of Dollars, there are data for the richest of the richest families. Plot this alongside the bars for the deciles above the Total line. Describe your results.\n",
        "6. Get the Percent Distribution data into a .csv file and load it with Pandas. Create a bar graph of Total Federal Taxes by income decile.\n",
        "7. A tax system is progressive if higher-income and wealthier individuals pay more than lower-income and less wealthy individuals, and it is regressive if the opposite is true. Is the U.S. tax system progressive in terms of amount paid? In terms of the percentage of the overall total?\n",
        "8. Do the rich pay enough in taxes? Defend your answer."
      ]
    }
  ],
  "metadata": {
    "kernelspec": {
      "display_name": "Python 3 (ipykernel)",
      "language": "python",
      "name": "python3"
    },
    "language_info": {
      "codemirror_mode": {
        "name": "ipython",
        "version": 3
      },
      "file_extension": ".py",
      "mimetype": "text/x-python",
      "name": "python",
      "nbconvert_exporter": "python",
      "pygments_lexer": "ipython3",
      "version": "3.10.4"
    },
    "colab": {
      "provenance": []
    }
  },
  "nbformat": 4,
  "nbformat_minor": 5
}